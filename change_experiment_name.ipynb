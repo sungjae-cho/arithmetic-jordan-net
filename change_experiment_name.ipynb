{
 "cells": [
  {
   "cell_type": "code",
   "execution_count": 1,
   "metadata": {},
   "outputs": [],
   "source": [
    "import run_info_utils\n",
    "import config\n",
    "from os import listdir, rename\n",
    "from os.path import isfile, join"
   ]
  },
  {
   "cell_type": "code",
   "execution_count": 2,
   "metadata": {},
   "outputs": [],
   "source": [
    "experiment_name = 'iccm2019_test'\n",
    "new_experiment_name = 'iccm2019'\n",
    "run_info_files = run_info_utils.get_all_run_info_files(experiment_name)\n",
    "for run_info_path in run_info_files:\n",
    "    run_info = run_info_utils.read_run_info_file(run_info_path)\n",
    "    run_info['experiment_name'] = new_experiment_name\n",
    "    run_info_utils.write_run_info_file(run_info, run_info_path)"
   ]
  },
  {
   "cell_type": "code",
   "execution_count": 3,
   "metadata": {},
   "outputs": [],
   "source": [
    "dir_list = [config.dir_h1_logs(),\n",
    "            config.dir_logs(),\n",
    "            config.dir_measure_log(),\n",
    "            config.dir_run_info_experiments(),\n",
    "            config.dir_saved_models(),\n",
    "            config.dir_sigmoid_output_seq(),\n",
    "            config.dir_result_statistics()]"
   ]
  },
  {
   "cell_type": "code",
   "execution_count": 4,
   "metadata": {},
   "outputs": [
    {
     "name": "stdout",
     "output_type": "stream",
     "text": [
      "No such file or directory: h1_logs/iccm2019_test\n",
      "Change 'tb_logs/iccm2019_test' -> 'tb_logs/iccm2019'\n",
      "Change 'measure_logs/iccm2019_test' -> 'measure_logs/iccm2019'\n",
      "Change 'run_info/iccm2019_test' -> 'run_info/iccm2019'\n",
      "Change 'saved_models/iccm2019_test' -> 'saved_models/iccm2019'\n",
      "Change 'sigmoid_output_seq/iccm2019_test' -> 'sigmoid_output_seq/iccm2019'\n",
      "Change 'result_statistics/iccm2019_test' -> 'result_statistics/iccm2019'\n"
     ]
    }
   ],
   "source": [
    "for dir_name in dir_list:\n",
    "    dir_src = join(dir_name, experiment_name)\n",
    "    dir_dst = join(dir_name, new_experiment_name)\n",
    "    try:\n",
    "        rename(dir_src, dir_dst)\n",
    "        print(\"Change '{}' -> '{}'\".format(dir_src, dir_dst))\n",
    "    except FileNotFoundError:\n",
    "        print(\"No such file or directory: {}\".format(dir_src))"
   ]
  }
 ],
 "metadata": {
  "kernelspec": {
   "display_name": "Python 3",
   "language": "python",
   "name": "python3"
  },
  "language_info": {
   "codemirror_mode": {
    "name": "ipython",
    "version": 3
   },
   "file_extension": ".py",
   "mimetype": "text/x-python",
   "name": "python",
   "nbconvert_exporter": "python",
   "pygments_lexer": "ipython3",
   "version": "3.5.2"
  }
 },
 "nbformat": 4,
 "nbformat_minor": 2
}
