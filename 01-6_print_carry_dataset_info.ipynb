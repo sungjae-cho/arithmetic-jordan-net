{
 "cells": [
  {
   "cell_type": "code",
   "execution_count": 1,
   "metadata": {},
   "outputs": [],
   "source": [
    "from data_utils import *"
   ]
  },
  {
   "cell_type": "code",
   "execution_count": 2,
   "metadata": {},
   "outputs": [
    {
     "data": {
      "text/plain": [
       "['add', 'subtract', 'multiply', 'divide', 'modulo']"
      ]
     },
     "execution_count": 2,
     "metadata": {},
     "output_type": "execute_result"
    }
   ],
   "source": [
    "operators_list"
   ]
  },
  {
   "cell_type": "code",
   "execution_count": 3,
   "metadata": {},
   "outputs": [],
   "source": [
    "operand_digits = 4"
   ]
  },
  {
   "cell_type": "code",
   "execution_count": 9,
   "metadata": {},
   "outputs": [
    {
     "name": "stdout",
     "output_type": "stream",
     "text": [
      "Imported from 'data/4-bit/add/carry_datasets.pickle'.\n",
      "Imported from 'data/4-bit/subtract/carry_datasets.pickle'.\n",
      "Imported from 'data/4-bit/multiply/carry_datasets.pickle'.\n",
      "Imported from 'data/4-bit/divide/carry_datasets.pickle'.\n",
      "Imported from 'data/4-bit/modulo/carry_datasets.pickle'.\n",
      "{0, 1, 2, 3, 4, 5, 6, 8, 12}\n"
     ]
    }
   ],
   "source": [
    "for operator in operators_list:\n",
    "    carry_datasets = import_carry_datasets(operand_digits, operator)\n",
    "    carry_set = carry_set.union(set(carry_datasets.keys()))\n",
    "print(carry_set)"
   ]
  },
  {
   "cell_type": "code",
   "execution_count": 4,
   "metadata": {},
   "outputs": [
    {
     "name": "stdout",
     "output_type": "stream",
     "text": [
      "Imported from 'data/4-bit/multiply/carry_datasets.pickle'.\n",
      "0-carry dataset\n",
      "- #input dimension: 8\n",
      "- #output dimension: 8\n",
      "- #operations: 161\n",
      "- Perceptage of 0-carry operations: 62.890625 %\n",
      "1-carry dataset\n",
      "- #input dimension: 8\n",
      "- #output dimension: 8\n",
      "- #operations: 11\n",
      "- Perceptage of 1-carry operations: 4.296875 %\n",
      "2-carry dataset\n",
      "- #input dimension: 8\n",
      "- #output dimension: 8\n",
      "- #operations: 17\n",
      "- Perceptage of 2-carry operations: 6.640625 %\n",
      "3-carry dataset\n",
      "- #input dimension: 8\n",
      "- #output dimension: 8\n",
      "- #operations: 20\n",
      "- Perceptage of 3-carry operations: 7.8125 %\n",
      "4-carry dataset\n",
      "- #input dimension: 8\n",
      "- #output dimension: 8\n",
      "- #operations: 29\n",
      "- Perceptage of 4-carry operations: 11.328125 %\n",
      "5-carry dataset\n",
      "- #input dimension: 8\n",
      "- #output dimension: 8\n",
      "- #operations: 5\n",
      "- Perceptage of 5-carry operations: 1.953125 %\n",
      "6-carry dataset\n",
      "- #input dimension: 8\n",
      "- #output dimension: 8\n",
      "- #operations: 4\n",
      "- Perceptage of 6-carry operations: 1.5625 %\n",
      "8-carry dataset\n",
      "- #input dimension: 8\n",
      "- #output dimension: 8\n",
      "- #operations: 8\n",
      "- Perceptage of 8-carry operations: 3.125 %\n",
      "12-carry dataset\n",
      "- #input dimension: 8\n",
      "- #output dimension: 8\n",
      "- #operations: 1\n",
      "- Perceptage of 12-carry operations: 0.390625 %\n"
     ]
    }
   ],
   "source": [
    "carry_datasets = import_carry_datasets(4, 'multiply')\n",
    "print_carry_datasets_info(carry_datasets)"
   ]
  },
  {
   "cell_type": "code",
   "execution_count": null,
   "metadata": {},
   "outputs": [],
   "source": []
  }
 ],
 "metadata": {
  "kernelspec": {
   "display_name": "Python 3",
   "language": "python",
   "name": "python3"
  },
  "language_info": {
   "codemirror_mode": {
    "name": "ipython",
    "version": 3
   },
   "file_extension": ".py",
   "mimetype": "text/x-python",
   "name": "python",
   "nbconvert_exporter": "python",
   "pygments_lexer": "ipython3",
   "version": "3.5.2"
  }
 },
 "nbformat": 4,
 "nbformat_minor": 2
}
