{
 "cells": [
  {
   "cell_type": "code",
   "execution_count": 1,
   "metadata": {},
   "outputs": [],
   "source": [
    "from data_utils import *"
   ]
  },
  {
   "cell_type": "code",
   "execution_count": 2,
   "metadata": {},
   "outputs": [
    {
     "name": "stdout",
     "output_type": "stream",
     "text": [
      "Saved in 'data/4-bit/add/op_dataset.pickle'.\n",
      "Saved in 'data/4-bit/add/carry_datasets.pickle'.\n",
      "Saved in 'data/6-bit/add/op_dataset.pickle'.\n",
      "Saved in 'data/6-bit/add/carry_datasets.pickle'.\n",
      "Saved in 'data/8-bit/add/op_dataset.pickle'.\n",
      "Saved in 'data/8-bit/add/carry_datasets.pickle'.\n",
      "Saved in 'data/4-bit/subtract/op_dataset.pickle'.\n",
      "Saved in 'data/4-bit/subtract/carry_datasets.pickle'.\n",
      "Saved in 'data/6-bit/subtract/op_dataset.pickle'.\n",
      "Saved in 'data/6-bit/subtract/carry_datasets.pickle'.\n",
      "Saved in 'data/8-bit/subtract/op_dataset.pickle'.\n",
      "Saved in 'data/8-bit/subtract/carry_datasets.pickle'.\n",
      "Saved in 'data/4-bit/multiply/op_dataset.pickle'.\n",
      "Saved in 'data/4-bit/multiply/carry_datasets.pickle'.\n",
      "Saved in 'data/6-bit/multiply/op_dataset.pickle'.\n",
      "Saved in 'data/6-bit/multiply/carry_datasets.pickle'.\n",
      "Saved in 'data/8-bit/multiply/op_dataset.pickle'.\n",
      "Saved in 'data/8-bit/multiply/carry_datasets.pickle'.\n",
      "Saved in 'data/4-bit/divide/op_dataset.pickle'.\n",
      "Saved in 'data/4-bit/divide/carry_datasets.pickle'.\n",
      "Saved in 'data/6-bit/divide/op_dataset.pickle'.\n",
      "Saved in 'data/6-bit/divide/carry_datasets.pickle'.\n",
      "Saved in 'data/8-bit/divide/op_dataset.pickle'.\n",
      "Saved in 'data/8-bit/divide/carry_datasets.pickle'.\n",
      "Saved in 'data/4-bit/modulo/op_dataset.pickle'.\n",
      "Saved in 'data/4-bit/modulo/carry_datasets.pickle'.\n",
      "Saved in 'data/6-bit/modulo/op_dataset.pickle'.\n",
      "Saved in 'data/6-bit/modulo/carry_datasets.pickle'.\n",
      "Saved in 'data/8-bit/modulo/op_dataset.pickle'.\n",
      "Saved in 'data/8-bit/modulo/carry_datasets.pickle'.\n",
      "Saved in 'data/4-bit/zero/op_dataset.pickle'.\n",
      "Saved in 'data/4-bit/one/op_dataset.pickle'.\n",
      "Saved in 'data/4-bit/fixed_random/op_dataset.pickle'.\n",
      "Saved in 'data/4-bit/random/op_dataset.pickle'.\n",
      "Saved in 'data/6-bit/zero/op_dataset.pickle'.\n",
      "Saved in 'data/6-bit/one/op_dataset.pickle'.\n",
      "Saved in 'data/6-bit/fixed_random/op_dataset.pickle'.\n",
      "Saved in 'data/6-bit/random/op_dataset.pickle'.\n",
      "Saved in 'data/8-bit/zero/op_dataset.pickle'.\n",
      "Saved in 'data/8-bit/one/op_dataset.pickle'.\n",
      "Saved in 'data/8-bit/fixed_random/op_dataset.pickle'.\n",
      "Saved in 'data/8-bit/random/op_dataset.pickle'.\n"
     ]
    }
   ],
   "source": [
    "generate_and_save_all_datasets()"
   ]
  }
 ],
 "metadata": {
  "kernelspec": {
   "display_name": "Python 3",
   "language": "python",
   "name": "python3"
  },
  "language_info": {
   "codemirror_mode": {
    "name": "ipython",
    "version": 3
   },
   "file_extension": ".py",
   "mimetype": "text/x-python",
   "name": "python",
   "nbconvert_exporter": "python",
   "pygments_lexer": "ipython3",
   "version": "3.5.2"
  }
 },
 "nbformat": 4,
 "nbformat_minor": 2
}
