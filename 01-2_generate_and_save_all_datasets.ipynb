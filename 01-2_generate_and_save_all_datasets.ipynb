{
 "cells": [
  {
   "cell_type": "code",
   "execution_count": 1,
   "metadata": {},
   "outputs": [],
   "source": [
    "from data_utils import *\n",
    "import config"
   ]
  },
  {
   "cell_type": "code",
   "execution_count": 4,
   "metadata": {},
   "outputs": [
    {
     "name": "stdout",
     "output_type": "stream",
     "text": [
      "Saved in 'data/4-bit/add/op_dataset.pickle'.\n",
      "Saved in 'data/4-bit/add/carry_datasets.pickle'.\n",
      "Saved in 'data/6-bit/add/op_dataset.pickle'.\n",
      "Saved in 'data/6-bit/add/carry_datasets.pickle'.\n",
      "Saved in 'data/8-bit/add/op_dataset.pickle'.\n",
      "Saved in 'data/8-bit/add/carry_datasets.pickle'.\n",
      "Saved in 'data/4-bit/subtract/op_dataset.pickle'.\n",
      "Saved in 'data/4-bit/subtract/carry_datasets.pickle'.\n",
      "Saved in 'data/6-bit/subtract/op_dataset.pickle'.\n",
      "Saved in 'data/6-bit/subtract/carry_datasets.pickle'.\n",
      "Saved in 'data/8-bit/subtract/op_dataset.pickle'.\n",
      "Saved in 'data/8-bit/subtract/carry_datasets.pickle'.\n",
      "Saved in 'data/4-bit/multiply/op_dataset.pickle'.\n",
      "Saved in 'data/4-bit/multiply/carry_datasets.pickle'.\n",
      "Saved in 'data/6-bit/multiply/op_dataset.pickle'.\n",
      "Saved in 'data/6-bit/multiply/carry_datasets.pickle'.\n",
      "Saved in 'data/8-bit/multiply/op_dataset.pickle'.\n",
      "Saved in 'data/8-bit/multiply/carry_datasets.pickle'.\n",
      "Saved in 'data/4-bit/divide/op_dataset.pickle'.\n",
      "Saved in 'data/4-bit/divide/carry_datasets.pickle'.\n",
      "Saved in 'data/6-bit/divide/op_dataset.pickle'.\n",
      "Saved in 'data/6-bit/divide/carry_datasets.pickle'.\n",
      "Saved in 'data/8-bit/divide/op_dataset.pickle'.\n",
      "Saved in 'data/8-bit/divide/carry_datasets.pickle'.\n",
      "Saved in 'data/4-bit/modulo/op_dataset.pickle'.\n",
      "Saved in 'data/4-bit/modulo/carry_datasets.pickle'.\n",
      "Saved in 'data/6-bit/modulo/op_dataset.pickle'.\n",
      "Saved in 'data/6-bit/modulo/carry_datasets.pickle'.\n",
      "Saved in 'data/8-bit/modulo/op_dataset.pickle'.\n",
      "Saved in 'data/8-bit/modulo/carry_datasets.pickle'.\n",
      "Saved in 'data/4-bit/zero/op_dataset.pickle'.\n",
      "Saved in 'data/4-bit/one/op_dataset.pickle'.\n",
      "Saved in 'data/4-bit/fixed_random/op_dataset.pickle'.\n",
      "Saved in 'data/4-bit/random/op_dataset.pickle'.\n",
      "Saved in 'data/6-bit/zero/op_dataset.pickle'.\n",
      "Saved in 'data/6-bit/one/op_dataset.pickle'.\n",
      "Saved in 'data/6-bit/fixed_random/op_dataset.pickle'.\n",
      "Saved in 'data/6-bit/random/op_dataset.pickle'.\n",
      "Saved in 'data/8-bit/zero/op_dataset.pickle'.\n",
      "Saved in 'data/8-bit/one/op_dataset.pickle'.\n",
      "Saved in 'data/8-bit/fixed_random/op_dataset.pickle'.\n",
      "Saved in 'data/8-bit/random/op_dataset.pickle'.\n"
     ]
    }
   ],
   "source": [
    "result_mode = 'fit'\n",
    "ordered_operands = True\n",
    "generate_and_save_all_datasets(result_mode, ordered_operands)"
   ]
  },
  {
   "cell_type": "code",
   "execution_count": 10,
   "metadata": {},
   "outputs": [
    {
     "name": "stdout",
     "output_type": "stream",
     "text": [
      "(136, 8) (136, 8) (136, 8) (136, 5) (136, 5) (136, 5)\n"
     ]
    }
   ],
   "source": [
    "(input_train, input_dev, input_test,\n",
    "        target_train, target_dev, target_test,\n",
    "        splited_carry_datasets\n",
    "    ) = import_op_dataset('add', 4, 1.0, 0, 0)\n",
    "print(input_train.shape, input_dev.shape, input_test.shape, target_train.shape, target_dev.shape, target_test.shape)"
   ]
  },
  {
   "cell_type": "code",
   "execution_count": 11,
   "metadata": {},
   "outputs": [
    {
     "name": "stdout",
     "output_type": "stream",
     "text": [
      "(136, 8) (136, 8) (136, 8) (136, 4) (136, 4) (136, 4)\n"
     ]
    }
   ],
   "source": [
    "(input_train, input_dev, input_test,\n",
    "        target_train, target_dev, target_test,\n",
    "        splited_carry_datasets\n",
    "    ) = import_op_dataset('subtract', 4, 1.0, 0, 0)\n",
    "print(input_train.shape, input_dev.shape, input_test.shape, target_train.shape, target_dev.shape, target_test.shape)"
   ]
  }
 ],
 "metadata": {
  "kernelspec": {
   "display_name": "Python 3",
   "language": "python",
   "name": "python3"
  },
  "language_info": {
   "codemirror_mode": {
    "name": "ipython",
    "version": 3
   },
   "file_extension": ".py",
   "mimetype": "text/x-python",
   "name": "python",
   "nbconvert_exporter": "python",
   "pygments_lexer": "ipython3",
   "version": "3.5.2"
  }
 },
 "nbformat": 4,
 "nbformat_minor": 2
}
