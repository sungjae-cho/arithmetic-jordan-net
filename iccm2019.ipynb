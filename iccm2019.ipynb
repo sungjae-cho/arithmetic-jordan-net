{
 "cells": [
  {
   "cell_type": "code",
   "execution_count": 1,
   "metadata": {},
   "outputs": [],
   "source": [
    "import run_info_utils"
   ]
  },
  {
   "cell_type": "code",
   "execution_count": 2,
   "metadata": {},
   "outputs": [],
   "source": [
    "def get_partial_df(df, n_rows):\n",
    "    if df.shape[0] < n_rows:\n",
    "        return df\n",
    "    else:\n",
    "        return df[:n_rows]\n",
    "    \n",
    "def preprocess(df):\n",
    "    h_dim_list = list()\n",
    "    for i in range(df.shape[0]):\n",
    "        h_dim = df['hidden_dimensions'].iloc[i][0]\n",
    "        h_dim_list.append(h_dim)\n",
    "    df['hidden_dimension'] = h_dim_list\n",
    "    return df"
   ]
  },
  {
   "cell_type": "code",
   "execution_count": 3,
   "metadata": {},
   "outputs": [],
   "source": [
    "df = run_info_utils.get_df_run_info()"
   ]
  },
  {
   "cell_type": "code",
   "execution_count": 4,
   "metadata": {},
   "outputs": [],
   "source": [
    "df = preprocess(df)"
   ]
  },
  {
   "cell_type": "code",
   "execution_count": 5,
   "metadata": {},
   "outputs": [
    {
     "data": {
      "text/html": [
       "<div>\n",
       "<style scoped>\n",
       "    .dataframe tbody tr th:only-of-type {\n",
       "        vertical-align: middle;\n",
       "    }\n",
       "\n",
       "    .dataframe tbody tr th {\n",
       "        vertical-align: top;\n",
       "    }\n",
       "\n",
       "    .dataframe thead th {\n",
       "        text-align: right;\n",
       "    }\n",
       "</style>\n",
       "<table border=\"1\" class=\"dataframe\">\n",
       "  <thead>\n",
       "    <tr style=\"text-align: right;\">\n",
       "      <th></th>\n",
       "      <th>all_correct_stop</th>\n",
       "      <th>batch_size</th>\n",
       "      <th>carry_list</th>\n",
       "      <th>confidence_prob</th>\n",
       "      <th>dev/carry-0/early_stopping/accuracy</th>\n",
       "      <th>dev/carry-1/early_stopping/accuracy</th>\n",
       "      <th>dev/carry-2/early_stopping/accuracy</th>\n",
       "      <th>dev/carry-3/early_stopping/accuracy</th>\n",
       "      <th>dev/carry-4/early_stopping/accuracy</th>\n",
       "      <th>dev/early_stopping/max_correct_answer_step</th>\n",
       "      <th>...</th>\n",
       "      <th>time/running_time</th>\n",
       "      <th>time/start_time</th>\n",
       "      <th>train_dev_test_ratio</th>\n",
       "      <th>train_set_size</th>\n",
       "      <th>train_set_size/carry-0</th>\n",
       "      <th>train_set_size/carry-1</th>\n",
       "      <th>train_set_size/carry-2</th>\n",
       "      <th>train_set_size/carry-3</th>\n",
       "      <th>train_set_size/carry-4</th>\n",
       "      <th>hidden_dimension</th>\n",
       "    </tr>\n",
       "  </thead>\n",
       "  <tbody>\n",
       "    <tr>\n",
       "      <th>0</th>\n",
       "      <td>True</td>\n",
       "      <td>32</td>\n",
       "      <td>[0, 1, 2, 3, 4]</td>\n",
       "      <td>0.9</td>\n",
       "      <td>1.0</td>\n",
       "      <td>1.0</td>\n",
       "      <td>1.0</td>\n",
       "      <td>1.0</td>\n",
       "      <td>1.0</td>\n",
       "      <td>4.0</td>\n",
       "      <td>...</td>\n",
       "      <td>00:39:58.418681</td>\n",
       "      <td>2019-03-25 20:29:15.231582</td>\n",
       "      <td>(1.0, 0, 0)</td>\n",
       "      <td>256</td>\n",
       "      <td>81.0</td>\n",
       "      <td>54.0</td>\n",
       "      <td>52.0</td>\n",
       "      <td>42.0</td>\n",
       "      <td>27.0</td>\n",
       "      <td>24</td>\n",
       "    </tr>\n",
       "  </tbody>\n",
       "</table>\n",
       "<p>1 rows × 212 columns</p>\n",
       "</div>"
      ],
      "text/plain": [
       "   all_correct_stop  batch_size       carry_list  confidence_prob  \\\n",
       "0              True          32  [0, 1, 2, 3, 4]              0.9   \n",
       "\n",
       "   dev/carry-0/early_stopping/accuracy  dev/carry-1/early_stopping/accuracy  \\\n",
       "0                                  1.0                                  1.0   \n",
       "\n",
       "   dev/carry-2/early_stopping/accuracy  dev/carry-3/early_stopping/accuracy  \\\n",
       "0                                  1.0                                  1.0   \n",
       "\n",
       "   dev/carry-4/early_stopping/accuracy  \\\n",
       "0                                  1.0   \n",
       "\n",
       "   dev/early_stopping/max_correct_answer_step        ...         \\\n",
       "0                                         4.0        ...          \n",
       "\n",
       "   time/running_time            time/start_time  train_dev_test_ratio  \\\n",
       "0    00:39:58.418681 2019-03-25 20:29:15.231582           (1.0, 0, 0)   \n",
       "\n",
       "   train_set_size  train_set_size/carry-0  train_set_size/carry-1  \\\n",
       "0             256                    81.0                    54.0   \n",
       "\n",
       "   train_set_size/carry-2  train_set_size/carry-3  train_set_size/carry-4  \\\n",
       "0                    52.0                    42.0                    27.0   \n",
       "\n",
       "   hidden_dimension  \n",
       "0                24  \n",
       "\n",
       "[1 rows x 212 columns]"
      ]
     },
     "execution_count": 5,
     "metadata": {},
     "output_type": "execute_result"
    }
   ],
   "source": [
    "df.head(n=1)"
   ]
  },
  {
   "cell_type": "code",
   "execution_count": 6,
   "metadata": {},
   "outputs": [],
   "source": [
    "#print(list(df.columns))"
   ]
  },
  {
   "cell_type": "code",
   "execution_count": 7,
   "metadata": {},
   "outputs": [],
   "source": [
    "experiment_name = 'iccm2019'\n",
    "df = df.loc[df['experiment_name'] == experiment_name]\n",
    "\n",
    "cols = ['run_id', 'operator', 'rnn_type', 'confidence_prob', \n",
    "        'operand_bits', 'hidden_activation', 'max_steps', 'hidden_dimension',\n",
    "'dev/last_carry-0_mean_correct_answer_step', \n",
    "'dev/last_carry-1_mean_correct_answer_step', \n",
    "'dev/last_carry-2_mean_correct_answer_step', \n",
    "'dev/last_carry-3_mean_correct_answer_step', \n",
    "'dev/last_carry-4_mean_correct_answer_step', \n",
    "'dev/last_mean_correct_answer_step', 'dev/last_accuracy']\n",
    "df = df[cols]"
   ]
  },
  {
   "cell_type": "code",
   "execution_count": 8,
   "metadata": {},
   "outputs": [],
   "source": [
    "df = df.loc[df['dev/last_accuracy'] == 1.0]\n",
    "df = df.loc[df['max_steps'] == 30]\n",
    "df = df.loc[df['hidden_activation'] == \"relu\"]\n",
    "df = df.loc[df['rnn_type'] == \"jordan\"]"
   ]
  },
  {
   "cell_type": "code",
   "execution_count": 9,
   "metadata": {},
   "outputs": [
    {
     "name": "stdout",
     "output_type": "stream",
     "text": [
      "Total df.shape: (314, 15)\n"
     ]
    }
   ],
   "source": [
    "print(\"Total df.shape:\", df.shape)"
   ]
  },
  {
   "cell_type": "code",
   "execution_count": 10,
   "metadata": {},
   "outputs": [],
   "source": [
    "df_add_cp9_h24 = df.query('operator == \"add\"').query('confidence_prob == 0.9').query('hidden_dimension == 24')\n",
    "df_sub_cp9_h24 = df.query('operator == \"subtract\"').query('confidence_prob == 0.9').query('hidden_dimension == 24')"
   ]
  },
  {
   "cell_type": "code",
   "execution_count": 11,
   "metadata": {},
   "outputs": [
    {
     "name": "stdout",
     "output_type": "stream",
     "text": [
      "(300, 15)\n"
     ]
    }
   ],
   "source": [
    "print(df_add_cp9_h24.shape)"
   ]
  },
  {
   "cell_type": "code",
   "execution_count": 12,
   "metadata": {},
   "outputs": [
    {
     "name": "stdout",
     "output_type": "stream",
     "text": [
      "(14, 15)\n"
     ]
    }
   ],
   "source": [
    "print(df_sub_cp9_h24.shape)"
   ]
  },
  {
   "cell_type": "code",
   "execution_count": 13,
   "metadata": {},
   "outputs": [
    {
     "name": "stdout",
     "output_type": "stream",
     "text": [
      "(300, 15)\n"
     ]
    }
   ],
   "source": [
    "n_rows = 300\n",
    "df_add_cp9_h24 = get_partial_df(df_add_cp9_h24, n_rows)\n",
    "print(df_add_cp9_h24.shape)"
   ]
  },
  {
   "cell_type": "markdown",
   "metadata": {},
   "source": [
    "# Export as CSV"
   ]
  },
  {
   "cell_type": "markdown",
   "metadata": {},
   "source": [
    "## Functionalize"
   ]
  },
  {
   "cell_type": "code",
   "execution_count": 14,
   "metadata": {},
   "outputs": [],
   "source": [
    "import pandas as pd\n",
    "import numpy as np\n",
    "import data_utils \n",
    "import config\n",
    "from utils import create_dir\n",
    "from os.path import join\n",
    "\n",
    "def get_csv_df(df, filename, experiment_name):\n",
    "    # Get configurations\n",
    "    n_rows = df.shape[0]\n",
    "    operator = df['operator'].iloc[0]\n",
    "    operand_digits = df['operand_bits'].iloc[0]\n",
    "    carry_list = list(data_utils.import_carry_datasets(operand_digits, operator).keys())\n",
    "    \n",
    "    # Gather for each \n",
    "    csv_df_list = list()\n",
    "    for carries in carry_list:\n",
    "        col = 'dev/last_carry-{}_mean_correct_answer_step'.format(carries)\n",
    "        csv_df = pd.DataFrame(data={'mean_anwer_steps':df[col], 'carries':np.full((n_rows), carries)})\n",
    "        csv_df_list.append(csv_df)\n",
    "    csv_df = pd.concat(csv_df_list, ignore_index=True)\n",
    "    \n",
    "    # Change the order of columns\n",
    "    csv_df = csv_df[['mean_anwer_steps', 'carries']]\n",
    "    \n",
    "    # Create dir\n",
    "    dir_to_save = join(config.dir_result_statistics(), experiment_name)\n",
    "    create_dir(dir_to_save)\n",
    "    \n",
    "    # Save the dataframe to a CSV file.\n",
    "    csv_df.to_csv(join(dir_to_save, filename), index=False)"
   ]
  },
  {
   "cell_type": "code",
   "execution_count": 15,
   "metadata": {},
   "outputs": [],
   "source": [
    "get_csv_df(df_add_cp9_h24, 'df_add_cp9_h24.csv', experiment_name)"
   ]
  }
 ],
 "metadata": {
  "kernelspec": {
   "display_name": "Python 3",
   "language": "python",
   "name": "python3"
  },
  "language_info": {
   "codemirror_mode": {
    "name": "ipython",
    "version": 3
   },
   "file_extension": ".py",
   "mimetype": "text/x-python",
   "name": "python",
   "nbconvert_exporter": "python",
   "pygments_lexer": "ipython3",
   "version": "3.5.2"
  }
 },
 "nbformat": 4,
 "nbformat_minor": 2
}
