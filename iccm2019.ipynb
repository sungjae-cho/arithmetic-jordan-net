{
 "cells": [
  {
   "cell_type": "code",
   "execution_count": 19,
   "metadata": {},
   "outputs": [],
   "source": [
    "import run_info_utils"
   ]
  },
  {
   "cell_type": "code",
   "execution_count": 20,
   "metadata": {},
   "outputs": [],
   "source": [
    "def get_partial_df(df, n_rows):\n",
    "    if df.shape[0] < n_rows:\n",
    "        return df\n",
    "    else:\n",
    "        return df[:n_rows]"
   ]
  },
  {
   "cell_type": "code",
   "execution_count": 21,
   "metadata": {},
   "outputs": [],
   "source": [
    "df = run_info_utils.get_df_run_info()"
   ]
  },
  {
   "cell_type": "code",
   "execution_count": 22,
   "metadata": {},
   "outputs": [
    {
     "data": {
      "text/html": [
       "<div>\n",
       "<style scoped>\n",
       "    .dataframe tbody tr th:only-of-type {\n",
       "        vertical-align: middle;\n",
       "    }\n",
       "\n",
       "    .dataframe tbody tr th {\n",
       "        vertical-align: top;\n",
       "    }\n",
       "\n",
       "    .dataframe thead th {\n",
       "        text-align: right;\n",
       "    }\n",
       "</style>\n",
       "<table border=\"1\" class=\"dataframe\">\n",
       "  <thead>\n",
       "    <tr style=\"text-align: right;\">\n",
       "      <th></th>\n",
       "      <th>all_correct_stop</th>\n",
       "      <th>batch_size</th>\n",
       "      <th>carry_list</th>\n",
       "      <th>confidence_prob</th>\n",
       "      <th>dev/carry-0/early_stopping/accuracy</th>\n",
       "      <th>dev/carry-1/early_stopping/accuracy</th>\n",
       "      <th>dev/carry-2/early_stopping/accuracy</th>\n",
       "      <th>dev/carry-3/early_stopping/accuracy</th>\n",
       "      <th>dev/carry-4/early_stopping/accuracy</th>\n",
       "      <th>dev/early_stopping/max_correct_answer_step</th>\n",
       "      <th>...</th>\n",
       "      <th>time/last_time</th>\n",
       "      <th>time/running_time</th>\n",
       "      <th>time/start_time</th>\n",
       "      <th>train_dev_test_ratio</th>\n",
       "      <th>train_set_size</th>\n",
       "      <th>train_set_size/carry-0</th>\n",
       "      <th>train_set_size/carry-1</th>\n",
       "      <th>train_set_size/carry-2</th>\n",
       "      <th>train_set_size/carry-3</th>\n",
       "      <th>train_set_size/carry-4</th>\n",
       "    </tr>\n",
       "  </thead>\n",
       "  <tbody>\n",
       "    <tr>\n",
       "      <th>0</th>\n",
       "      <td>True</td>\n",
       "      <td>32</td>\n",
       "      <td>[0, 1, 2, 3, 4]</td>\n",
       "      <td>0.9</td>\n",
       "      <td>1.000000</td>\n",
       "      <td>1.000000</td>\n",
       "      <td>1.000000</td>\n",
       "      <td>1.000000</td>\n",
       "      <td>1.00000</td>\n",
       "      <td>4.0</td>\n",
       "      <td>...</td>\n",
       "      <td>2019-03-25 21:09:13.650263</td>\n",
       "      <td>00:39:58.418681</td>\n",
       "      <td>2019-03-25 20:29:15.231582</td>\n",
       "      <td>(1.0, 0, 0)</td>\n",
       "      <td>256</td>\n",
       "      <td>81.0</td>\n",
       "      <td>54.0</td>\n",
       "      <td>52.0</td>\n",
       "      <td>42.0</td>\n",
       "      <td>27.0</td>\n",
       "    </tr>\n",
       "    <tr>\n",
       "      <th>1</th>\n",
       "      <td>True</td>\n",
       "      <td>32</td>\n",
       "      <td>[0, 1, 2, 3, 4]</td>\n",
       "      <td>0.9</td>\n",
       "      <td>1.000000</td>\n",
       "      <td>1.000000</td>\n",
       "      <td>1.000000</td>\n",
       "      <td>1.000000</td>\n",
       "      <td>1.00000</td>\n",
       "      <td>18.0</td>\n",
       "      <td>...</td>\n",
       "      <td>2019-03-25 20:36:27.179813</td>\n",
       "      <td>00:18:20.582719</td>\n",
       "      <td>2019-03-25 20:18:06.597094</td>\n",
       "      <td>(1.0, 0, 0)</td>\n",
       "      <td>256</td>\n",
       "      <td>81.0</td>\n",
       "      <td>54.0</td>\n",
       "      <td>52.0</td>\n",
       "      <td>42.0</td>\n",
       "      <td>27.0</td>\n",
       "    </tr>\n",
       "    <tr>\n",
       "      <th>2</th>\n",
       "      <td>True</td>\n",
       "      <td>32</td>\n",
       "      <td>[0, 1, 2, 3, 4]</td>\n",
       "      <td>0.9</td>\n",
       "      <td>1.000000</td>\n",
       "      <td>1.000000</td>\n",
       "      <td>1.000000</td>\n",
       "      <td>1.000000</td>\n",
       "      <td>1.00000</td>\n",
       "      <td>3.0</td>\n",
       "      <td>...</td>\n",
       "      <td>2019-03-26 08:44:56.883783</td>\n",
       "      <td>12:38:41.109794</td>\n",
       "      <td>2019-03-25 20:06:15.773989</td>\n",
       "      <td>(1.0, 0, 0)</td>\n",
       "      <td>256</td>\n",
       "      <td>81.0</td>\n",
       "      <td>54.0</td>\n",
       "      <td>52.0</td>\n",
       "      <td>42.0</td>\n",
       "      <td>27.0</td>\n",
       "    </tr>\n",
       "    <tr>\n",
       "      <th>3</th>\n",
       "      <td>True</td>\n",
       "      <td>32</td>\n",
       "      <td>[0, 1, 2, 3, 4]</td>\n",
       "      <td>0.9</td>\n",
       "      <td>0.901235</td>\n",
       "      <td>0.722222</td>\n",
       "      <td>0.673077</td>\n",
       "      <td>0.619048</td>\n",
       "      <td>0.37037</td>\n",
       "      <td>18.0</td>\n",
       "      <td>...</td>\n",
       "      <td>2019-03-25 17:04:05.709238</td>\n",
       "      <td>00:05:42.961018</td>\n",
       "      <td>2019-03-25 16:58:22.748220</td>\n",
       "      <td>(1.0, 0, 0)</td>\n",
       "      <td>256</td>\n",
       "      <td>81.0</td>\n",
       "      <td>54.0</td>\n",
       "      <td>52.0</td>\n",
       "      <td>42.0</td>\n",
       "      <td>27.0</td>\n",
       "    </tr>\n",
       "    <tr>\n",
       "      <th>4</th>\n",
       "      <td>True</td>\n",
       "      <td>32</td>\n",
       "      <td>[0, 1, 2, 3, 4]</td>\n",
       "      <td>0.9</td>\n",
       "      <td>1.000000</td>\n",
       "      <td>1.000000</td>\n",
       "      <td>1.000000</td>\n",
       "      <td>1.000000</td>\n",
       "      <td>1.00000</td>\n",
       "      <td>8.0</td>\n",
       "      <td>...</td>\n",
       "      <td>2019-03-25 20:39:46.803029</td>\n",
       "      <td>00:10:53.738680</td>\n",
       "      <td>2019-03-25 20:28:53.064349</td>\n",
       "      <td>(1.0, 0, 0)</td>\n",
       "      <td>256</td>\n",
       "      <td>81.0</td>\n",
       "      <td>54.0</td>\n",
       "      <td>52.0</td>\n",
       "      <td>42.0</td>\n",
       "      <td>27.0</td>\n",
       "    </tr>\n",
       "  </tbody>\n",
       "</table>\n",
       "<p>5 rows × 211 columns</p>\n",
       "</div>"
      ],
      "text/plain": [
       "   all_correct_stop  batch_size       carry_list  confidence_prob  \\\n",
       "0              True          32  [0, 1, 2, 3, 4]              0.9   \n",
       "1              True          32  [0, 1, 2, 3, 4]              0.9   \n",
       "2              True          32  [0, 1, 2, 3, 4]              0.9   \n",
       "3              True          32  [0, 1, 2, 3, 4]              0.9   \n",
       "4              True          32  [0, 1, 2, 3, 4]              0.9   \n",
       "\n",
       "   dev/carry-0/early_stopping/accuracy  dev/carry-1/early_stopping/accuracy  \\\n",
       "0                             1.000000                             1.000000   \n",
       "1                             1.000000                             1.000000   \n",
       "2                             1.000000                             1.000000   \n",
       "3                             0.901235                             0.722222   \n",
       "4                             1.000000                             1.000000   \n",
       "\n",
       "   dev/carry-2/early_stopping/accuracy  dev/carry-3/early_stopping/accuracy  \\\n",
       "0                             1.000000                             1.000000   \n",
       "1                             1.000000                             1.000000   \n",
       "2                             1.000000                             1.000000   \n",
       "3                             0.673077                             0.619048   \n",
       "4                             1.000000                             1.000000   \n",
       "\n",
       "   dev/carry-4/early_stopping/accuracy  \\\n",
       "0                              1.00000   \n",
       "1                              1.00000   \n",
       "2                              1.00000   \n",
       "3                              0.37037   \n",
       "4                              1.00000   \n",
       "\n",
       "   dev/early_stopping/max_correct_answer_step           ...            \\\n",
       "0                                         4.0           ...             \n",
       "1                                        18.0           ...             \n",
       "2                                         3.0           ...             \n",
       "3                                        18.0           ...             \n",
       "4                                         8.0           ...             \n",
       "\n",
       "              time/last_time  time/running_time            time/start_time  \\\n",
       "0 2019-03-25 21:09:13.650263    00:39:58.418681 2019-03-25 20:29:15.231582   \n",
       "1 2019-03-25 20:36:27.179813    00:18:20.582719 2019-03-25 20:18:06.597094   \n",
       "2 2019-03-26 08:44:56.883783    12:38:41.109794 2019-03-25 20:06:15.773989   \n",
       "3 2019-03-25 17:04:05.709238    00:05:42.961018 2019-03-25 16:58:22.748220   \n",
       "4 2019-03-25 20:39:46.803029    00:10:53.738680 2019-03-25 20:28:53.064349   \n",
       "\n",
       "   train_dev_test_ratio  train_set_size  train_set_size/carry-0  \\\n",
       "0           (1.0, 0, 0)             256                    81.0   \n",
       "1           (1.0, 0, 0)             256                    81.0   \n",
       "2           (1.0, 0, 0)             256                    81.0   \n",
       "3           (1.0, 0, 0)             256                    81.0   \n",
       "4           (1.0, 0, 0)             256                    81.0   \n",
       "\n",
       "   train_set_size/carry-1  train_set_size/carry-2  train_set_size/carry-3  \\\n",
       "0                    54.0                    52.0                    42.0   \n",
       "1                    54.0                    52.0                    42.0   \n",
       "2                    54.0                    52.0                    42.0   \n",
       "3                    54.0                    52.0                    42.0   \n",
       "4                    54.0                    52.0                    42.0   \n",
       "\n",
       "   train_set_size/carry-4  \n",
       "0                    27.0  \n",
       "1                    27.0  \n",
       "2                    27.0  \n",
       "3                    27.0  \n",
       "4                    27.0  \n",
       "\n",
       "[5 rows x 211 columns]"
      ]
     },
     "execution_count": 22,
     "metadata": {},
     "output_type": "execute_result"
    }
   ],
   "source": [
    "df.head()"
   ]
  },
  {
   "cell_type": "code",
   "execution_count": 23,
   "metadata": {},
   "outputs": [],
   "source": [
    "# print(list(df.columns))"
   ]
  },
  {
   "cell_type": "code",
   "execution_count": 24,
   "metadata": {},
   "outputs": [],
   "source": [
    "experiment_name = 'iccm2019'\n",
    "df = df.loc[df['experiment_name'] == experiment_name]\n",
    "\n",
    "cols = ['run_id', 'operator', 'rnn_type', 'confidence_prob', 'operand_bits', 'hidden_activation', 'max_steps',\n",
    "'dev/last_carry-0_mean_correct_answer_step', \n",
    "'dev/last_carry-1_mean_correct_answer_step', \n",
    "'dev/last_carry-2_mean_correct_answer_step', \n",
    "'dev/last_carry-3_mean_correct_answer_step', \n",
    "'dev/last_carry-4_mean_correct_answer_step', \n",
    "'dev/last_mean_correct_answer_step', 'dev/last_accuracy']\n",
    "df = df[cols]"
   ]
  },
  {
   "cell_type": "code",
   "execution_count": 25,
   "metadata": {},
   "outputs": [],
   "source": [
    "df = df.loc[df['dev/last_accuracy'] == 1.0]"
   ]
  },
  {
   "cell_type": "code",
   "execution_count": 26,
   "metadata": {},
   "outputs": [
    {
     "data": {
      "text/plain": [
       "(300, 14)"
      ]
     },
     "execution_count": 26,
     "metadata": {},
     "output_type": "execute_result"
    }
   ],
   "source": [
    "df.shape"
   ]
  },
  {
   "cell_type": "code",
   "execution_count": 27,
   "metadata": {},
   "outputs": [],
   "source": [
    "df_add_jordan_9_relu_maxstep10 = df.query('operator == \"add\"').query('rnn_type == \"jordan\"').query('confidence_prob == 0.9').query('hidden_activation == \"relu\"').query('max_steps == 10')\n",
    "df_sub_jordan_9_relu_maxstep10 = df.query('operator == \"subtract\"').query('rnn_type == \"jordan\"').query('confidence_prob == 0.9').query('hidden_activation == \"relu\"').query('max_steps == 10')\n",
    "df_add_jordan_9_relu_maxstep20 = df.query('operator == \"add\"').query('rnn_type == \"jordan\"').query('confidence_prob == 0.9').query('hidden_activation == \"relu\"').query('max_steps == 20')\n",
    "df_sub_jordan_9_relu_maxstep20 = df.query('operator == \"subtract\"').query('rnn_type == \"jordan\"').query('confidence_prob == 0.9').query('hidden_activation == \"relu\"').query('max_steps == 20')\n",
    "df_add_jordan_9_relu_maxstep30 = df.query('operator == \"add\"').query('rnn_type == \"jordan\"').query('confidence_prob == 0.9').query('hidden_activation == \"relu\"').query('max_steps == 30')\n",
    "df_sub_jordan_9_relu_maxstep30 = df.query('operator == \"subtract\"').query('rnn_type == \"jordan\"').query('confidence_prob == 0.9').query('hidden_activation == \"relu\"').query('max_steps == 30')\n",
    "df_add_jordan_9_relu_maxstep40 = df.query('operator == \"add\"').query('rnn_type == \"jordan\"').query('confidence_prob == 0.9').query('hidden_activation == \"relu\"').query('max_steps == 40')\n",
    "df_sub_jordan_9_relu_maxstep40 = df.query('operator == \"subtract\"').query('rnn_type == \"jordan\"').query('confidence_prob == 0.9').query('hidden_activation == \"relu\"').query('max_steps == 40')\n",
    "df_add_jordan_9_relu_maxstep50 = df.query('operator == \"add\"').query('rnn_type == \"jordan\"').query('confidence_prob == 0.9').query('hidden_activation == \"relu\"').query('max_steps == 50')\n",
    "df_sub_jordan_9_relu_maxstep50 = df.query('operator == \"subtract\"').query('rnn_type == \"jordan\"').query('confidence_prob == 0.9').query('hidden_activation == \"relu\"').query('max_steps == 50')\n",
    "df_add_jordan_9_relu_maxstep60 = df.query('operator == \"add\"').query('rnn_type == \"jordan\"').query('confidence_prob == 0.9').query('hidden_activation == \"relu\"').query('max_steps == 60')\n",
    "df_sub_jordan_9_relu_maxstep60 = df.query('operator == \"subtract\"').query('rnn_type == \"jordan\"').query('confidence_prob == 0.9').query('hidden_activation == \"relu\"').query('max_steps == 60')\n",
    "df_add_jordan_9_relu_maxstep90 = df.query('operator == \"add\"').query('rnn_type == \"jordan\"').query('confidence_prob == 0.9').query('hidden_activation == \"relu\"').query('max_steps == 90')\n",
    "\n",
    "\n",
    "df_add_jordan_9_tanh_maxstep10 = df.query('operator == \"add\"').query('rnn_type == \"jordan\"').query('confidence_prob == 0.9').query('hidden_activation == \"tanh\"').query('max_steps == 10')\n",
    "df_sub_jordan_9_tanh_maxstep10 = df.query('operator == \"subtract\"').query('rnn_type == \"jordan\"').query('confidence_prob == 0.9').query('hidden_activation == \"tanh\"').query('max_steps == 10')\n",
    "df_add_jordan_9_tanh_maxstep20 = df.query('operator == \"add\"').query('rnn_type == \"jordan\"').query('confidence_prob == 0.9').query('hidden_activation == \"tanh\"').query('max_steps == 20')\n",
    "df_sub_jordan_9_tanh_maxstep20 = df.query('operator == \"subtract\"').query('rnn_type == \"jordan\"').query('confidence_prob == 0.9').query('hidden_activation == \"tanh\"').query('max_steps == 20')\n",
    "df_add_jordan_9_tanh_maxstep30 = df.query('operator == \"add\"').query('rnn_type == \"jordan\"').query('confidence_prob == 0.9').query('hidden_activation == \"tanh\"').query('max_steps == 30')\n",
    "df_sub_jordan_9_tanh_maxstep30 = df.query('operator == \"subtract\"').query('rnn_type == \"jordan\"').query('confidence_prob == 0.9').query('hidden_activation == \"tanh\"').query('max_steps == 30')\n",
    "df_add_jordan_9_tanh_maxstep40 = df.query('operator == \"add\"').query('rnn_type == \"jordan\"').query('confidence_prob == 0.9').query('hidden_activation == \"tanh\"').query('max_steps == 40')\n",
    "df_sub_jordan_9_tanh_maxstep40 = df.query('operator == \"subtract\"').query('rnn_type == \"jordan\"').query('confidence_prob == 0.9').query('hidden_activation == \"tanh\"').query('max_steps == 40')\n",
    "df_add_jordan_9_tanh_maxstep50 = df.query('operator == \"add\"').query('rnn_type == \"jordan\"').query('confidence_prob == 0.9').query('hidden_activation == \"tanh\"').query('max_steps == 50')\n",
    "df_sub_jordan_9_tanh_maxstep50 = df.query('operator == \"subtract\"').query('rnn_type == \"jordan\"').query('confidence_prob == 0.9').query('hidden_activation == \"tanh\"').query('max_steps == 50')\n",
    "df_add_jordan_9_tanh_maxstep60 = df.query('operator == \"add\"').query('rnn_type == \"jordan\"').query('confidence_prob == 0.9').query('hidden_activation == \"tanh\"').query('max_steps == 60')\n",
    "df_sub_jordan_9_tanh_maxstep60 = df.query('operator == \"subtract\"').query('rnn_type == \"jordan\"').query('confidence_prob == 0.9').query('hidden_activation == \"tanh\"').query('max_steps == 60')"
   ]
  },
  {
   "cell_type": "code",
   "execution_count": 28,
   "metadata": {},
   "outputs": [
    {
     "name": "stdout",
     "output_type": "stream",
     "text": [
      "(0, 14)\n",
      "(0, 14)\n",
      "(300, 14)\n",
      "(0, 14)\n",
      "(0, 14)\n",
      "(0, 14)\n",
      "(0, 14)\n"
     ]
    }
   ],
   "source": [
    "print(df_add_jordan_9_relu_maxstep10.shape)\n",
    "print(df_add_jordan_9_relu_maxstep20.shape)\n",
    "print(df_add_jordan_9_relu_maxstep30.shape)\n",
    "print(df_add_jordan_9_relu_maxstep40.shape)\n",
    "print(df_add_jordan_9_relu_maxstep50.shape)\n",
    "print(df_add_jordan_9_relu_maxstep60.shape)\n",
    "print(df_add_jordan_9_relu_maxstep90.shape)"
   ]
  },
  {
   "cell_type": "code",
   "execution_count": 279,
   "metadata": {},
   "outputs": [
    {
     "name": "stdout",
     "output_type": "stream",
     "text": [
      "(0, 14)\n",
      "(0, 14)\n",
      "(0, 14)\n",
      "(0, 14)\n",
      "(0, 14)\n",
      "(0, 14)\n"
     ]
    }
   ],
   "source": [
    "print(df_sub_jordan_9_relu_maxstep10.shape)\n",
    "print(df_sub_jordan_9_relu_maxstep20.shape)\n",
    "print(df_sub_jordan_9_relu_maxstep30.shape)\n",
    "print(df_sub_jordan_9_relu_maxstep40.shape)\n",
    "print(df_sub_jordan_9_relu_maxstep50.shape)\n",
    "print(df_sub_jordan_9_relu_maxstep60.shape)"
   ]
  },
  {
   "cell_type": "code",
   "execution_count": 280,
   "metadata": {},
   "outputs": [
    {
     "name": "stdout",
     "output_type": "stream",
     "text": [
      "(0, 14)\n",
      "(0, 14)\n",
      "(0, 14)\n",
      "(0, 14)\n",
      "(0, 14)\n",
      "(0, 14)\n"
     ]
    }
   ],
   "source": [
    "print(df_add_jordan_9_tanh_maxstep10.shape)\n",
    "print(df_add_jordan_9_tanh_maxstep20.shape)\n",
    "print(df_add_jordan_9_tanh_maxstep30.shape)\n",
    "print(df_add_jordan_9_tanh_maxstep40.shape)\n",
    "print(df_add_jordan_9_tanh_maxstep50.shape)\n",
    "print(df_add_jordan_9_tanh_maxstep60.shape)"
   ]
  },
  {
   "cell_type": "code",
   "execution_count": 281,
   "metadata": {},
   "outputs": [
    {
     "name": "stdout",
     "output_type": "stream",
     "text": [
      "(0, 14)\n",
      "(0, 14)\n",
      "(0, 14)\n",
      "(0, 14)\n",
      "(0, 14)\n",
      "(0, 14)\n"
     ]
    }
   ],
   "source": [
    "print(df_sub_jordan_9_tanh_maxstep10.shape)\n",
    "print(df_sub_jordan_9_tanh_maxstep20.shape)\n",
    "print(df_sub_jordan_9_tanh_maxstep30.shape)\n",
    "print(df_sub_jordan_9_tanh_maxstep40.shape)\n",
    "print(df_sub_jordan_9_tanh_maxstep50.shape)\n",
    "print(df_sub_jordan_9_tanh_maxstep60.shape)"
   ]
  },
  {
   "cell_type": "code",
   "execution_count": 199,
   "metadata": {},
   "outputs": [
    {
     "name": "stdout",
     "output_type": "stream",
     "text": [
      "(0, 14)\n",
      "(0, 14)\n",
      "(210, 14)\n",
      "(0, 14)\n",
      "(0, 14)\n"
     ]
    }
   ],
   "source": [
    "n_rows = 240\n",
    "df_add_jordan_9_relu_maxstep10 = get_partial_df(df_add_jordan_9_relu_maxstep10, n_rows)\n",
    "print(df_add_jordan_9_relu_maxstep10.shape)\n",
    "df_add_jordan_9_relu_maxstep20 = get_partial_df(df_add_jordan_9_relu_maxstep20, n_rows)\n",
    "print(df_add_jordan_9_relu_maxstep20.shape)\n",
    "df_add_jordan_9_relu_maxstep30 = get_partial_df(df_add_jordan_9_relu_maxstep30, n_rows)\n",
    "print(df_add_jordan_9_relu_maxstep30.shape)\n",
    "df_add_jordan_9_relu_maxstep40 = get_partial_df(df_add_jordan_9_relu_maxstep40, n_rows)\n",
    "print(df_add_jordan_9_relu_maxstep40.shape)\n",
    "df_add_jordan_9_relu_maxstep50 = get_partial_df(df_add_jordan_9_relu_maxstep50, n_rows)\n",
    "print(df_add_jordan_9_relu_maxstep50.shape)"
   ]
  },
  {
   "cell_type": "markdown",
   "metadata": {},
   "source": [
    "# Export as CSV"
   ]
  },
  {
   "cell_type": "markdown",
   "metadata": {},
   "source": [
    "## Functionalize"
   ]
  },
  {
   "cell_type": "code",
   "execution_count": 29,
   "metadata": {},
   "outputs": [],
   "source": [
    "import pandas as pd\n",
    "import numpy as np\n",
    "import data_utils \n",
    "from utils import create_dir\n",
    "from os.path import join\n",
    "\n",
    "def get_csv_df(df, filename, experiment_name):\n",
    "    # Get configurations\n",
    "    n_rows = df.shape[0]\n",
    "    operator = df['operator'].iloc[0]\n",
    "    operand_digits = df['operand_bits'].iloc[0]\n",
    "    carry_list = list(data_utils.import_carry_datasets(operand_digits, operator).keys())\n",
    "    \n",
    "    # Gather for each \n",
    "    csv_df_list = list()\n",
    "    for carries in carry_list:\n",
    "        col = 'dev/last_carry-{}_mean_correct_answer_step'.format(carries)\n",
    "        csv_df = pd.DataFrame(data={'mean_anwer_steps':df[col], 'carries':np.full((n_rows), carries)})\n",
    "        csv_df_list.append(csv_df)\n",
    "    csv_df = pd.concat(csv_df_list, ignore_index=True)\n",
    "    \n",
    "    # Change the order of columns\n",
    "    csv_df = csv_df[['mean_anwer_steps', 'carries']]\n",
    "    \n",
    "    # Create dir\n",
    "    dir_to_save = join('result_statistics', experiment_name)\n",
    "    create_dir(dir_to_save)\n",
    "    \n",
    "    # Save the dataframe to a CSV file.\n",
    "    csv_df.to_csv(join(dir_to_save, filename), index=False)"
   ]
  },
  {
   "cell_type": "code",
   "execution_count": 30,
   "metadata": {},
   "outputs": [],
   "source": [
    "get_csv_df(df_add_jordan_9_relu_maxstep30, 'df_add_jordan_9_relu_maxstep30.csv', experiment_name)"
   ]
  },
  {
   "cell_type": "code",
   "execution_count": 15,
   "metadata": {},
   "outputs": [],
   "source": [
    "get_csv_df(df_add_jordan_9_relu_maxstep10, 'df_add_jordan_9_relu_maxstep10.csv', experiment_name)\n",
    "get_csv_df(df_add_jordan_9_relu_maxstep20, 'df_add_jordan_9_relu_maxstep20.csv', experiment_name)\n",
    "get_csv_df(df_add_jordan_9_relu_maxstep30, 'df_add_jordan_9_relu_maxstep30.csv', experiment_name)\n",
    "get_csv_df(df_add_jordan_9_relu_maxstep40, 'df_add_jordan_9_relu_maxstep40.csv', experiment_name)\n",
    "get_csv_df(df_add_jordan_9_relu_maxstep50, 'df_add_jordan_9_relu_maxstep50.csv', experiment_name)\n",
    "get_csv_df(df_add_jordan_9_relu_maxstep60, 'df_add_jordan_9_relu_maxstep60.csv', experiment_name)"
   ]
  },
  {
   "cell_type": "code",
   "execution_count": null,
   "metadata": {},
   "outputs": [],
   "source": [
    "get_csv_df(df_add_jordan_9_relu_maxstep10, 'df_add_jordan_9_relu_maxstep10.csv', experiment_name)\n",
    "get_csv_df(df_sub_jordan_9_relu_maxstep10, 'df_sub_jordan_9_relu_maxstep10.csv', experiment_name)\n",
    "get_csv_df(df_add_jordan_9_relu_maxstep20, 'df_add_jordan_9_relu_maxstep20.csv', experiment_name)\n",
    "get_csv_df(df_sub_jordan_9_relu_maxstep20, 'df_sub_jordan_9_relu_maxstep20.csv', experiment_name)\n",
    "get_csv_df(df_add_jordan_9_relu_maxstep30, 'df_add_jordan_9_relu_maxstep30.csv', experiment_name)\n",
    "get_csv_df(df_sub_jordan_9_relu_maxstep30, 'df_sub_jordan_9_relu_maxstep30.csv', experiment_name)\n",
    "get_csv_df(df_add_jordan_9_relu_maxstep40, 'df_add_jordan_9_relu_maxstep40.csv', experiment_name)\n",
    "get_csv_df(df_sub_jordan_9_relu_maxstep40, 'df_sub_jordan_9_relu_maxstep40.csv', experiment_name)\n",
    "get_csv_df(df_add_jordan_9_relu_maxstep50, 'df_add_jordan_9_relu_maxstep50.csv', experiment_name)\n",
    "get_csv_df(df_sub_jordan_9_relu_maxstep50, 'df_sub_jordan_9_relu_maxstep50.csv', experiment_name)\n",
    "get_csv_df(df_add_jordan_9_relu_maxstep60, 'df_add_jordan_9_relu_maxstep60.csv', experiment_name)\n",
    "get_csv_df(df_sub_jordan_9_relu_maxstep60, 'df_sub_jordan_9_relu_maxstep60.csv', experiment_name)\n",
    "get_csv_df(df_add_jordan_9_relu_maxstep90, 'df_add_jordan_9_relu_maxstep90.csv', experiment_name)"
   ]
  },
  {
   "cell_type": "code",
   "execution_count": null,
   "metadata": {},
   "outputs": [],
   "source": [
    "get_csv_df(df_add_jordan_9_tanh_maxstep10, 'df_add_jordan_9_tanh_maxstep10.csv', experiment_name)\n",
    "get_csv_df(df_sub_jordan_9_tanh_maxstep10, 'df_sub_jordan_9_tanh_maxstep10.csv', experiment_name)\n",
    "get_csv_df(df_add_jordan_9_tanh_maxstep20, 'df_add_jordan_9_tanh_maxstep20.csv', experiment_name)\n",
    "get_csv_df(df_sub_jordan_9_tanh_maxstep20, 'df_sub_jordan_9_tanh_maxstep20.csv', experiment_name)\n",
    "get_csv_df(df_add_jordan_9_tanh_maxstep30, 'df_add_jordan_9_tanh_maxstep30.csv', experiment_name)\n",
    "get_csv_df(df_sub_jordan_9_tanh_maxstep30, 'df_sub_jordan_9_tanh_maxstep30.csv', experiment_name)\n",
    "get_csv_df(df_add_jordan_9_tanh_maxstep40, 'df_add_jordan_9_tanh_maxstep40.csv', experiment_name)\n",
    "get_csv_df(df_sub_jordan_9_tanh_maxstep40, 'df_sub_jordan_9_tanh_maxstep40.csv', experiment_name)\n",
    "get_csv_df(df_add_jordan_9_tanh_maxstep50, 'df_add_jordan_9_tanh_maxstep50.csv', experiment_name)\n",
    "get_csv_df(df_sub_jordan_9_tanh_maxstep50, 'df_sub_jordan_9_tanh_maxstep50.csv', experiment_name)\n",
    "get_csv_df(df_add_jordan_9_tanh_maxstep60, 'df_add_jordan_9_tanh_maxstep60.csv', experiment_name)\n",
    "get_csv_df(df_sub_jordan_9_tanh_maxstep60, 'df_sub_jordan_9_tanh_maxstep60.csv', experiment_name)"
   ]
  }
 ],
 "metadata": {
  "kernelspec": {
   "display_name": "Python 3",
   "language": "python",
   "name": "python3"
  },
  "language_info": {
   "codemirror_mode": {
    "name": "ipython",
    "version": 3
   },
   "file_extension": ".py",
   "mimetype": "text/x-python",
   "name": "python",
   "nbconvert_exporter": "python",
   "pygments_lexer": "ipython3",
   "version": "3.5.2"
  }
 },
 "nbformat": 4,
 "nbformat_minor": 2
}
