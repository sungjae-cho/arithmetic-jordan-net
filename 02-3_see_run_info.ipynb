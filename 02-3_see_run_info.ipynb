{
 "cells": [
  {
   "cell_type": "code",
   "execution_count": null,
   "metadata": {},
   "outputs": [],
   "source": [
    "20190107022950"
   ]
  },
  {
   "cell_type": "code",
   "execution_count": 1,
   "metadata": {},
   "outputs": [],
   "source": [
    "from run_info_utils import print_run_info"
   ]
  },
  {
   "cell_type": "code",
   "execution_count": 32,
   "metadata": {},
   "outputs": [
    {
     "name": "stdout",
     "output_type": "stream",
     "text": [
      "{'all_correct_stop': True,\n",
      " 'batch_size': 32,\n",
      " 'dev_set_size': 256,\n",
      " 'experiment_name': 'cogsci2019',\n",
      " 'hidden_activation': 'sigmoid',\n",
      " 'hidden_dimensions': [64],\n",
      " 'init_all_correct_digit-1_epoch': -1,\n",
      " 'init_all_correct_digit-2_epoch': -1,\n",
      " 'init_all_correct_digit-3_epoch': -1,\n",
      " 'init_all_correct_digit-4_epoch': -1,\n",
      " 'init_all_correct_digit-5_epoch': -1,\n",
      " 'init_all_correct_digit-6_epoch': -1,\n",
      " 'init_all_correct_digit-7_epoch': -1,\n",
      " 'init_all_correct_digit-8_epoch': -1,\n",
      " 'init_all_correct_epoch': -1,\n",
      " 'init_complete_all_correct_digit-1_epoch': -1,\n",
      " 'init_complete_all_correct_digit-2_epoch': -1,\n",
      " 'init_complete_all_correct_digit-3_epoch': -1,\n",
      " 'init_complete_all_correct_digit-4_epoch': -1,\n",
      " 'init_complete_all_correct_digit-5_epoch': -1,\n",
      " 'init_complete_all_correct_digit-6_epoch': -1,\n",
      " 'init_complete_all_correct_digit-7_epoch': -1,\n",
      " 'init_complete_all_correct_digit-8_epoch': -1,\n",
      " 'last_digit-1_accuracy': 0.58203125,\n",
      " 'last_digit-1_wrong': 107,\n",
      " 'last_digit-2_accuracy': 0.60546875,\n",
      " 'last_digit-2_wrong': 101,\n",
      " 'last_digit-3_accuracy': 0.58984375,\n",
      " 'last_digit-3_wrong': 105,\n",
      " 'last_digit-4_accuracy': 0.58203125,\n",
      " 'last_digit-4_wrong': 107,\n",
      " 'last_digit-5_accuracy': 0.5625,\n",
      " 'last_digit-5_wrong': 112,\n",
      " 'last_digit-6_accuracy': 0.5859375,\n",
      " 'last_digit-6_wrong': 106,\n",
      " 'last_digit-7_accuracy': 0.609375,\n",
      " 'last_digit-7_wrong': 100,\n",
      " 'last_digit-8_accuracy': 0.578125,\n",
      " 'last_digit-8_wrong': 108,\n",
      " 'last_epoch': 546.0,\n",
      " 'last_test_accuracy': 0.01953125,\n",
      " 'last_test_loss': 0.67144036,\n",
      " 'last_test_op_wrong': 251,\n",
      " 'last_tlu_op_wrong': 255,\n",
      " 'last_tlu_test_accuracy': 0.00390625,\n",
      " 'last_tlu_test_loss': 0.69023764,\n",
      " 'learning_rate': 0.001,\n",
      " 'network_input_dimension': 8,\n",
      " 'network_output_dimension': 8,\n",
      " 'operand_bits': 4,\n",
      " 'operator': 'random',\n",
      " 'optimizer': 'Adam',\n",
      " 'result_bits': 8,\n",
      " 'run_id': '20190110021825',\n",
      " 'test_set_size': 256,\n",
      " 'train_set_size': 256}\n"
     ]
    }
   ],
   "source": [
    "print_run_info('20190110021825', 'cogsci2019')"
   ]
  }
 ],
 "metadata": {
  "kernelspec": {
   "display_name": "Python 3",
   "language": "python",
   "name": "python3"
  },
  "language_info": {
   "codemirror_mode": {
    "name": "ipython",
    "version": 3
   },
   "file_extension": ".py",
   "mimetype": "text/x-python",
   "name": "python",
   "nbconvert_exporter": "python",
   "pygments_lexer": "ipython3",
   "version": "3.5.2"
  }
 },
 "nbformat": 4,
 "nbformat_minor": 2
}
