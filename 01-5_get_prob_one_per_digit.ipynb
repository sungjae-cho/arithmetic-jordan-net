{
 "cells": [
  {
   "cell_type": "code",
   "execution_count": 2,
   "metadata": {},
   "outputs": [],
   "source": [
    "from utils import import_data\n",
    "import numpy as np"
   ]
  },
  {
   "cell_type": "code",
   "execution_count": 3,
   "metadata": {},
   "outputs": [],
   "source": [
    "def get_prob_one_per_digit(operator, operand_digits):\n",
    "    '''\n",
    "    Parameters\n",
    "    ----------\n",
    "    operator : str. 'add', 'subtract', 'multiply', 'divide', 'modulo'\n",
    "    operand_digits : int. The number of digits of an operand.\n",
    "    \n",
    "    Returns\n",
    "    -------\n",
    "    count_ones_list : list. List of (digit_loc, probability of 1).\n",
    "    '''\n",
    "    (input_train, input_dev, input_test,\n",
    "               output_train, output_dev, output_test) = import_data(operator, operand_digits)\n",
    "\n",
    "    n_examples = output_train.shape[0]\n",
    "    output_size = output_train.shape[1]\n",
    "    count_ones = np.sum(output_train, axis=0)\n",
    "    count_ones_list = list()\n",
    "    for i in range(output_size):\n",
    "        digit_loc = output_size - i\n",
    "        prob_one = count_ones[i] / n_examples\n",
    "        count_ones_list.append((digit_loc, prob_one))\n",
    "        \n",
    "        \n",
    "    count_ones_list =  sorted(count_ones_list, key=lambda tup: tup[1]) \n",
    "    return count_ones_list\n",
    "\n",
    "def print_prob_one_per_digit(count_ones_list):\n",
    "    for digit_loc, prob_one in count_ones_list:\n",
    "        print('Prob(1 in {} digit) = {}'.format(digit_loc, prob_one))"
   ]
  },
  {
   "cell_type": "code",
   "execution_count": 6,
   "metadata": {},
   "outputs": [
    {
     "name": "stdout",
     "output_type": "stream",
     "text": [
      "Prob(1 in 5 digit) = 0.46875\n",
      "Prob(1 in 4 digit) = 0.5\n",
      "Prob(1 in 3 digit) = 0.5\n",
      "Prob(1 in 2 digit) = 0.5\n",
      "Prob(1 in 1 digit) = 0.5\n"
     ]
    }
   ],
   "source": [
    "print_prob_one_per_digit(get_prob_one_per_digit('add', 4))"
   ]
  },
  {
   "cell_type": "code",
   "execution_count": 7,
   "metadata": {},
   "outputs": [
    {
     "name": "stdout",
     "output_type": "stream",
     "text": [
      "Prob(1 in 4 digit) = 0.2647058823529412\n",
      "Prob(1 in 3 digit) = 0.38235294117647056\n",
      "Prob(1 in 2 digit) = 0.4411764705882353\n",
      "Prob(1 in 1 digit) = 0.47058823529411764\n"
     ]
    }
   ],
   "source": [
    "print_prob_one_per_digit(get_prob_one_per_digit('subtract', 4))"
   ]
  },
  {
   "cell_type": "code",
   "execution_count": 8,
   "metadata": {},
   "outputs": [
    {
     "name": "stdout",
     "output_type": "stream",
     "text": [
      "Prob(1 in 8 digit) = 0.125\n",
      "Prob(1 in 1 digit) = 0.25\n",
      "Prob(1 in 7 digit) = 0.2578125\n",
      "Prob(1 in 6 digit) = 0.34375\n",
      "Prob(1 in 2 digit) = 0.375\n",
      "Prob(1 in 5 digit) = 0.390625\n",
      "Prob(1 in 3 digit) = 0.4375\n",
      "Prob(1 in 4 digit) = 0.46875\n"
     ]
    }
   ],
   "source": [
    "print_prob_one_per_digit(get_prob_one_per_digit('multiply', 4))"
   ]
  },
  {
   "cell_type": "code",
   "execution_count": 9,
   "metadata": {},
   "outputs": [
    {
     "name": "stdout",
     "output_type": "stream",
     "text": [
      "Prob(1 in 4 digit) = 0.03333333333333333\n",
      "Prob(1 in 3 digit) = 0.08333333333333333\n",
      "Prob(1 in 2 digit) = 0.175\n",
      "Prob(1 in 1 digit) = 0.35833333333333334\n"
     ]
    }
   ],
   "source": [
    "print_prob_one_per_digit(get_prob_one_per_digit('divide', 4))"
   ]
  },
  {
   "cell_type": "code",
   "execution_count": 10,
   "metadata": {},
   "outputs": [
    {
     "name": "stdout",
     "output_type": "stream",
     "text": [
      "Prob(1 in 4 digit) = 0.11666666666666667\n",
      "Prob(1 in 3 digit) = 0.25416666666666665\n",
      "Prob(1 in 2 digit) = 0.3625\n",
      "Prob(1 in 1 digit) = 0.425\n"
     ]
    }
   ],
   "source": [
    "print_prob_one_per_digit(get_prob_one_per_digit('modulo', 4))"
   ]
  }
 ],
 "metadata": {
  "kernelspec": {
   "display_name": "Python 3",
   "language": "python",
   "name": "python3"
  },
  "language_info": {
   "codemirror_mode": {
    "name": "ipython",
    "version": 3
   },
   "file_extension": ".py",
   "mimetype": "text/x-python",
   "name": "python",
   "nbconvert_exporter": "python",
   "pygments_lexer": "ipython3",
   "version": "3.5.2"
  }
 },
 "nbformat": 4,
 "nbformat_minor": 2
}
